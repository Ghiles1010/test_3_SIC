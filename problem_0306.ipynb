{
 "cells": [
  {
   "cell_type": "markdown",
   "source": [
    "## Quiz #0306"
   ],
   "metadata": {}
  },
  {
   "cell_type": "markdown",
   "source": [
    "### \"F test of variance ratio\""
   ],
   "metadata": {}
  },
  {
   "cell_type": "code",
   "execution_count": 1,
   "source": [
    "import numpy as np\r\n",
    "import scipy.stats as st"
   ],
   "outputs": [],
   "metadata": {}
  },
  {
   "cell_type": "markdown",
   "source": [
    "#### Answer the following questions by providing Python code:"
   ],
   "metadata": {}
  },
  {
   "cell_type": "markdown",
   "source": [
    "In a factory there are two packaging machines. Output samples are drawn from each machine. <br>\n",
    "- $n_1=15$, $\\bar{x}_1=5.0592 kg$, $s_1^2=0.1130 kg^2$\n",
    "- $n_2=12$, $\\bar{x}_2=4.9808 kg$, $s_2^2=0.0152 kg^2$  \n",
    "\n",
    "Test whether there is a significant difference in the variances (95%)."
   ],
   "metadata": {}
  },
  {
   "cell_type": "code",
   "execution_count": 2,
   "source": [
    "n1 = 15\r\n",
    "ssq1 = 0.1130\r\n",
    "n2 = 12\r\n",
    "ssq2 = 0.0152"
   ],
   "outputs": [],
   "metadata": {}
  },
  {
   "cell_type": "markdown",
   "source": [
    "1). Do the right tail test:"
   ],
   "metadata": {}
  },
  {
   "cell_type": "code",
   "execution_count": 3,
   "source": [
    "f = ssq1/ssq2\r\n",
    "1 - st.f.cdf(f, n1-1, n2-1)"
   ],
   "outputs": [
    {
     "output_type": "execute_result",
     "data": {
      "text/plain": [
       "0.0009847696603404454"
      ]
     },
     "metadata": {},
     "execution_count": 3
    }
   ],
   "metadata": {}
  },
  {
   "cell_type": "markdown",
   "source": [
    "2). Do the two tail test:"
   ],
   "metadata": {}
  },
  {
   "cell_type": "code",
   "execution_count": 4,
   "source": [
    "f = ssq1/ssq2\r\n",
    "(1 - st.f.cdf(f, n1-1, n2-1))*2"
   ],
   "outputs": [
    {
     "output_type": "execute_result",
     "data": {
      "text/plain": [
       "0.001969539320680891"
      ]
     },
     "metadata": {},
     "execution_count": 4
    }
   ],
   "metadata": {}
  },
  {
   "cell_type": "markdown",
   "source": [
    "3). Briefly discuss the results:"
   ],
   "metadata": {}
  },
  {
   "cell_type": "code",
   "execution_count": null,
   "source": [
    "\"\"\"\r\n",
    "The null hypothesis of the F-test is that they have the same variance.\r\n",
    "\r\n",
    "we cannot reject the null hypothesis. because we can see that there\r\n",
    "is no significant difference between the two vaiances. as the right\r\n",
    "tail test gives a probability of  0.9% and the two tail test gives a\r\n",
    "probability of 1%. and our rejection rate is 95%\r\n",
    "\r\n",
    "\"\"\""
   ],
   "outputs": [],
   "metadata": {}
  }
 ],
 "metadata": {
  "kernelspec": {
   "name": "python3",
   "display_name": "Python 3.8.2 64-bit"
  },
  "language_info": {
   "codemirror_mode": {
    "name": "ipython",
    "version": 3
   },
   "file_extension": ".py",
   "mimetype": "text/x-python",
   "name": "python",
   "nbconvert_exporter": "python",
   "pygments_lexer": "ipython3",
   "version": "3.8.2"
  },
  "toc": {
   "base_numbering": 1,
   "nav_menu": {},
   "number_sections": true,
   "sideBar": true,
   "skip_h1_title": false,
   "title_cell": "Table of Contents",
   "title_sidebar": "Contents",
   "toc_cell": false,
   "toc_position": {},
   "toc_section_display": true,
   "toc_window_display": false
  },
  "varInspector": {
   "cols": {
    "lenName": 16,
    "lenType": 16,
    "lenVar": 40
   },
   "kernels_config": {
    "python": {
     "delete_cmd_postfix": "",
     "delete_cmd_prefix": "del ",
     "library": "var_list.py",
     "varRefreshCmd": "print(var_dic_list())"
    },
    "r": {
     "delete_cmd_postfix": ") ",
     "delete_cmd_prefix": "rm(",
     "library": "var_list.r",
     "varRefreshCmd": "cat(var_dic_list()) "
    }
   },
   "types_to_exclude": [
    "module",
    "function",
    "builtin_function_or_method",
    "instance",
    "_Feature"
   ],
   "window_display": false
  },
  "interpreter": {
   "hash": "fd88d7af6e94c6929b65b5dc552f91130e2e10e9038db61f82cd7f9c6aff4407"
  }
 },
 "nbformat": 4,
 "nbformat_minor": 2
}