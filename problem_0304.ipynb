{
 "cells": [
  {
   "cell_type": "markdown",
   "source": [
    "## Coding Problem #0304"
   ],
   "metadata": {}
  },
  {
   "cell_type": "markdown",
   "source": [
    "### \"Policy support rate\""
   ],
   "metadata": {}
  },
  {
   "cell_type": "code",
   "execution_count": 47,
   "source": [
    "import numpy as np\r\n",
    "import scipy.stats as st"
   ],
   "outputs": [],
   "metadata": {}
  },
  {
   "cell_type": "markdown",
   "source": [
    "#### Answer the following questions by providing Python code:"
   ],
   "metadata": {}
  },
  {
   "cell_type": "markdown",
   "source": [
    "It is known that the overall policy support rate is 52%. <br>"
   ],
   "metadata": {}
  },
  {
   "cell_type": "code",
   "execution_count": 48,
   "source": [
    "p = 0.52"
   ],
   "outputs": [],
   "metadata": {}
  },
  {
   "cell_type": "markdown",
   "source": [
    "1). What is the probability of support rate less than 50% when asked to 100 people? <br>\n",
    "HINT: Use sample proportion and Standard Normal distribution."
   ],
   "metadata": {}
  },
  {
   "cell_type": "code",
   "execution_count": 51,
   "source": [
    "def test_cond(n, p):\r\n",
    "    test = lambda x : \"\\tOK\" if x else \"\\tNOT OK\"\r\n",
    "\r\n",
    "    print(\"n*p > 10 :\", test(n*p>10))                               # Check wheather this is larger than 10. => OK\r\n",
    "    print(\"n*(1-p) > 10 :\", test(n*(1-p)>10))"
   ],
   "outputs": [],
   "metadata": {}
  },
  {
   "cell_type": "code",
   "execution_count": 53,
   "source": [
    "n = 100\r\n",
    "\r\n",
    "test_cond(n, p)\r\n",
    "\r\n",
    "x = 0.5\r\n",
    "\r\n",
    "std_err = np.sqrt(p*(1-p)/n)\r\n",
    "z = (x - p) / std_err\r\n",
    "\r\n",
    "st.norm.cdf(z)"
   ],
   "outputs": [
    {
     "output_type": "stream",
     "name": "stdout",
     "text": [
      "n*p > 10 : \tOK\n",
      "n*(1-p) > 10 : \tOK\n"
     ]
    },
    {
     "output_type": "execute_result",
     "data": {
      "text/plain": [
       "0.3444602779022302"
      ]
     },
     "metadata": {},
     "execution_count": 53
    }
   ],
   "metadata": {}
  },
  {
   "cell_type": "markdown",
   "source": [
    "2). What is the probability of support rate less than 50% when asked to 300 people? <br>\n",
    "HINT: Use sample proportion and Standard Normal distribution."
   ],
   "metadata": {}
  },
  {
   "cell_type": "code",
   "execution_count": 54,
   "source": [
    "n = 300\r\n",
    "\r\n",
    "test_cond(n, p)\r\n",
    "\r\n",
    "x = 0.5\r\n",
    "\r\n",
    "std_err = np.sqrt(p*(1-p)/n)\r\n",
    "z = (x - p) / std_err\r\n",
    "\r\n",
    "st.norm.cdf(z)"
   ],
   "outputs": [
    {
     "output_type": "stream",
     "name": "stdout",
     "text": [
      "n*p > 10 : \tOK\n",
      "n*(1-p) > 10 : \tOK\n"
     ]
    },
    {
     "output_type": "execute_result",
     "data": {
      "text/plain": [
       "0.24403704658262387"
      ]
     },
     "metadata": {},
     "execution_count": 54
    }
   ],
   "metadata": {}
  },
  {
   "cell_type": "markdown",
   "source": [
    "3). Redo the calculations of 1) and 2) using the Binomial distribution. Then, compare."
   ],
   "metadata": {}
  },
  {
   "cell_type": "code",
   "execution_count": 43,
   "source": [
    "# Redo of 1).\r\n",
    "n = 100\r\n",
    "x = 0.5\r\n",
    "\r\n",
    "st.binom.cdf(0.5*n, n, p)"
   ],
   "outputs": [
    {
     "output_type": "execute_result",
     "data": {
      "text/plain": [
       "0.3816199474102779"
      ]
     },
     "metadata": {},
     "execution_count": 43
    }
   ],
   "metadata": {}
  },
  {
   "cell_type": "code",
   "execution_count": 55,
   "source": [
    "# Redo of 2).\r\n",
    "n = 300\r\n",
    "x = 0.5\r\n",
    "\r\n",
    "st.binom.cdf(0.5*n, n, p)"
   ],
   "outputs": [
    {
     "output_type": "execute_result",
     "data": {
      "text/plain": [
       "0.2624050639758823"
      ]
     },
     "metadata": {},
     "execution_count": 55
    }
   ],
   "metadata": {}
  },
  {
   "cell_type": "code",
   "execution_count": 32,
   "source": [
    "\"\"\"\r\n",
    "We can see the the results obtaines with binomial and \r\n",
    "normal distribution are close to each other.\r\n",
    "\"\"\""
   ],
   "outputs": [
    {
     "output_type": "execute_result",
     "data": {
      "text/plain": [
       "'\\nWe can see the the results obtaines with binomial and \\nnormal distribution are close to each other.\\n'"
      ]
     },
     "metadata": {},
     "execution_count": 32
    }
   ],
   "metadata": {}
  },
  {
   "cell_type": "markdown",
   "source": [
    "4). Redo the calculations of 1) and 2) using the Poisson distribution. Then, compare."
   ],
   "metadata": {}
  },
  {
   "cell_type": "code",
   "execution_count": 33,
   "source": [
    "# Redo of 1).\r\n",
    "n = 100\r\n",
    "k = 0.5 * n \r\n",
    "\r\n",
    "1 - st.poisson.cdf(k, mu = 0)"
   ],
   "outputs": [
    {
     "output_type": "execute_result",
     "data": {
      "text/plain": [
       "0.0"
      ]
     },
     "metadata": {},
     "execution_count": 33
    }
   ],
   "metadata": {}
  },
  {
   "cell_type": "code",
   "execution_count": 57,
   "source": [
    "# Redo of 2).\r\n",
    "n = 300\r\n",
    "\r\n",
    "k = 0.5 * n \r\n",
    "\r\n",
    "1 - st.poisson.cdf(k, mu = 0)"
   ],
   "outputs": [
    {
     "output_type": "execute_result",
     "data": {
      "text/plain": [
       "0.0"
      ]
     },
     "metadata": {},
     "execution_count": 57
    }
   ],
   "metadata": {}
  },
  {
   "cell_type": "code",
   "execution_count": 35,
   "source": [
    "\"\"\"\r\n",
    "The poisson distribution is not suitable for this case\r\n",
    "\"\"\""
   ],
   "outputs": [
    {
     "output_type": "execute_result",
     "data": {
      "text/plain": [
       "'\\nThe poisson distribution is not suitable for this case\\n'"
      ]
     },
     "metadata": {},
     "execution_count": 35
    }
   ],
   "metadata": {}
  }
 ],
 "metadata": {
  "kernelspec": {
   "name": "python3",
   "display_name": "Python 3.8.2 64-bit"
  },
  "language_info": {
   "codemirror_mode": {
    "name": "ipython",
    "version": 3
   },
   "file_extension": ".py",
   "mimetype": "text/x-python",
   "name": "python",
   "nbconvert_exporter": "python",
   "pygments_lexer": "ipython3",
   "version": "3.8.2"
  },
  "toc": {
   "base_numbering": 1,
   "nav_menu": {},
   "number_sections": true,
   "sideBar": true,
   "skip_h1_title": false,
   "title_cell": "Table of Contents",
   "title_sidebar": "Contents",
   "toc_cell": false,
   "toc_position": {},
   "toc_section_display": true,
   "toc_window_display": false
  },
  "varInspector": {
   "cols": {
    "lenName": 16,
    "lenType": 16,
    "lenVar": 40
   },
   "kernels_config": {
    "python": {
     "delete_cmd_postfix": "",
     "delete_cmd_prefix": "del ",
     "library": "var_list.py",
     "varRefreshCmd": "print(var_dic_list())"
    },
    "r": {
     "delete_cmd_postfix": ") ",
     "delete_cmd_prefix": "rm(",
     "library": "var_list.r",
     "varRefreshCmd": "cat(var_dic_list()) "
    }
   },
   "types_to_exclude": [
    "module",
    "function",
    "builtin_function_or_method",
    "instance",
    "_Feature"
   ],
   "window_display": false
  },
  "interpreter": {
   "hash": "fd88d7af6e94c6929b65b5dc552f91130e2e10e9038db61f82cd7f9c6aff4407"
  }
 },
 "nbformat": 4,
 "nbformat_minor": 2
}